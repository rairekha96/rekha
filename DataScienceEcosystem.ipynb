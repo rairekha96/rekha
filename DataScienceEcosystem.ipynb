{
 "cells": [
  {
   "cell_type": "markdown",
   "id": "2b3a7c2a-3f50-4e4c-b793-dd922c790740",
   "metadata": {},
   "source": [
    "# H1: Data Science Tools and Ecosystem"
   ]
  },
  {
   "cell_type": "markdown",
   "id": "c65e17a4-8d62-412a-b4ac-c463a0aa93c4",
   "metadata": {},
   "source": [
    "In this notebook, Data Science Tools and Ecosystem are summarized."
   ]
  },
  {
   "cell_type": "markdown",
   "id": "78bd0f89-182f-465b-87e6-f0ad594bba57",
   "metadata": {},
   "source": [
    "Some of the popular languages that Data Scientists use are:\n",
    "* Python\n",
    "* R\n",
    "* SQL"
   ]
  },
  {
   "cell_type": "code",
   "execution_count": null,
   "id": "9bc7e646-c20e-4071-9af6-f81f3f6b231a",
   "metadata": {},
   "outputs": [],
   "source": [
    "Some of the commonly used libraries used by Data Scientists include:\n",
    "* NumPy\n",
    "* Pandas\n",
    "* Matplotlib"
   ]
  },
  {
   "cell_type": "markdown",
   "id": "264732ef-77bd-46e0-b5b8-d94cfa499152",
   "metadata": {},
   "source": [
    "|Data Science Tools |  \n",
    "| ------ |\n",
    "| R | \n",
    "| Python |\n",
    "| SQL |\n",
    "| Numpy |\n"
   ]
  },
  {
   "cell_type": "markdown",
   "id": "ec0f31dd-7ac0-4984-bdb3-28cad7934969",
   "metadata": {},
   "source": [
    "Below are a few examples of evaluating arithmetic expressions in Python"
   ]
  },
  {
   "cell_type": "code",
   "execution_count": 3,
   "id": "d13b9622-72bc-444d-85d5-9442e0b7f105",
   "metadata": {},
   "outputs": [
    {
     "data": {
      "text/plain": [
       "17"
      ]
     },
     "execution_count": 3,
     "metadata": {},
     "output_type": "execute_result"
    }
   ],
   "source": [
    "# This a simple arithmetic expression to mutiply then add integers\n",
    "(3*4)+5"
   ]
  },
  {
   "cell_type": "code",
   "execution_count": 4,
   "id": "6b2117be-190e-4870-a873-bce3a405daca",
   "metadata": {},
   "outputs": [
    {
     "data": {
      "text/plain": [
       "3.3333333333333335"
      ]
     },
     "execution_count": 4,
     "metadata": {},
     "output_type": "execute_result"
    }
   ],
   "source": [
    "#This will convert 200 minutes to hours by diving by 60\n",
    "200/60"
   ]
  },
  {
   "cell_type": "markdown",
   "id": "3220880c-bbb0-4f70-838d-d3e87b9df70d",
   "metadata": {},
   "source": [
    "**Objectives**\n",
    "* List Popular Languages of Data science\n",
    "* Data Science Tools\n",
    "* Data SCience Libariries\n",
    "* Introduction R\n",
    "* Introduction to Python"
   ]
  },
  {
   "cell_type": "markdown",
   "id": "3dbd617b-380d-4774-9075-e7262a423af9",
   "metadata": {},
   "source": [
    "# H2 : Author\n",
    "Rekha Kumari"
   ]
  },
  {
   "cell_type": "code",
   "execution_count": null,
   "id": "28ed69c3-4d2e-4e9d-a67d-3eef9f62ed88",
   "metadata": {},
   "outputs": [],
   "source": []
  }
 ],
 "metadata": {
  "kernelspec": {
   "display_name": "Python 3 (ipykernel)",
   "language": "python",
   "name": "python3"
  },
  "language_info": {
   "codemirror_mode": {
    "name": "ipython",
    "version": 3
   },
   "file_extension": ".py",
   "mimetype": "text/x-python",
   "name": "python",
   "nbconvert_exporter": "python",
   "pygments_lexer": "ipython3",
   "version": "3.13.5"
  }
 },
 "nbformat": 4,
 "nbformat_minor": 5
}
